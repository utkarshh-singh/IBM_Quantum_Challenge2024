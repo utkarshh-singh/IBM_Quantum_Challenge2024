{
 "cells": [
  {
   "cell_type": "code",
   "execution_count": 53,
   "id": "7320715a-efa0-48ec-8101-785add17b1e2",
   "metadata": {},
   "outputs": [],
   "source": [
    "QiskitRuntimeService.save_account(\n",
    "    channel=\"ibm_quantum\",\n",
    "    token=\"49d8c940d0f43950045ad63a4a425c361ac6db201bba52874ff5a78449deb1cab5e44635a7135fdb77bdaff6b037b68ade6c55d2f2015608e3a2194e186dfbb4\",\n",
    "    set_as_default=True,\n",
    "    # Use overwrite=True if you're updating your token.\n",
    "    overwrite=True,\n",
    ")"
   ]
  },
  {
   "cell_type": "code",
   "execution_count": 54,
   "id": "3487964f-9f34-4527-943d-7408e5af5f1b",
   "metadata": {},
   "outputs": [
    {
     "name": "stdout",
     "output_type": "stream",
     "text": [
      "env: QXToken=49d8c940d0f43950045ad63a4a425c361ac6db201bba52874ff5a78449deb1cab5e44635a7135fdb77bdaff6b037b68ade6c55d2f2015608e3a2194e186dfbb4\n"
     ]
    },
    {
     "data": {
      "text/plain": [
       "'0.18.13'"
      ]
     },
     "execution_count": 54,
     "metadata": {},
     "output_type": "execute_result"
    }
   ],
   "source": [
    "### Save API Token, if needed\n",
    "\n",
    "%set_env QXToken=49d8c940d0f43950045ad63a4a425c361ac6db201bba52874ff5a78449deb1cab5e44635a7135fdb77bdaff6b037b68ade6c55d2f2015608e3a2194e186dfbb4\n",
    "\n",
    "# Make sure there is no space between the equal sign\n",
    "# and the beginning of your token\n",
    "# qc-grader should be 0.18.12 (or higher)\n",
    "import qc_grader\n",
    "\n",
    "qc_grader.__version__"
   ]
  },
  {
   "cell_type": "code",
   "execution_count": 55,
   "id": "6e40c25c-0332-4e15-a0ba-46a9e1e6076b",
   "metadata": {},
   "outputs": [
    {
     "data": {
      "text/plain": [
       "'1.0.2'"
      ]
     },
     "execution_count": 55,
     "metadata": {},
     "output_type": "execute_result"
    }
   ],
   "source": [
    "\n",
    "import qiskit\n",
    "qiskit.__version__"
   ]
  },
  {
   "cell_type": "code",
   "execution_count": 56,
   "id": "71058407-9adb-4a1c-9f05-dc6d87dca1ca",
   "metadata": {},
   "outputs": [],
   "source": [
    "# Import all in one cell\n",
    "\n",
    "import numpy as np\n",
    "import matplotlib.pyplot as plt\n",
    "from timeit import default_timer as timer\n",
    "import warnings\n",
    "\n",
    "from qiskit import QuantumCircuit\n",
    "from qiskit.transpiler.preset_passmanagers import generate_preset_pass_manager\n",
    "from qiskit.circuit.random import random_circuit\n",
    "from qiskit.quantum_info import SparsePauliOp\n",
    "from qiskit.circuit.library import TwoLocal, EfficientSU2\n",
    "from qiskit_ibm_runtime import QiskitRuntimeService, Estimator, Session, Options\n",
    "from qiskit_serverless import QiskitFunction, save_result, get_arguments, save_result, distribute_task, distribute_qiskit_function, IBMServerlessClient, QiskitFunction\n",
    "from qiskit.transpiler.preset_passmanagers import generate_preset_pass_manager\n",
    "from qiskit_transpiler_service.transpiler_service import TranspilerService\n",
    "from qiskit_aer import AerSimulator"
   ]
  },
  {
   "cell_type": "code",
   "execution_count": 57,
   "id": "7aef351e-5c95-4a95-8070-f742f6df10a7",
   "metadata": {},
   "outputs": [],
   "source": [
    "# Import for grader\n",
    "from qc_grader.challenges.iqc_2024 import grade_lab3_qs_ex1, grade_lab3_qs_ex2"
   ]
  },
  {
   "cell_type": "code",
   "execution_count": 58,
   "id": "f81f69a7-4b8f-4c02-be11-2971c01a01e3",
   "metadata": {},
   "outputs": [],
   "source": [
    "service = QiskitRuntimeService(channel=\"ibm_quantum\")\n",
    " \n",
    "# Specify a system to use for transpilation\n",
    "real_backend = service.backend(\"ibm_brisbane\")"
   ]
  },
  {
   "cell_type": "code",
   "execution_count": 59,
   "id": "a9e2c795-e17a-4cb7-a0c5-152df0b108d2",
   "metadata": {},
   "outputs": [],
   "source": [
    "# Qiskit Pattern Step 1: Map quantum circuits and operators (Define Ansatz and operators)\n",
    "num_qubits = 3\n",
    "rotation_blocks = ['ry', 'rz']\n",
    "entanglement_blocks = 'cz'\n",
    "entanglement = 'full'\n",
    "\n",
    "# Define Ansatz\n",
    "ansatz = TwoLocal(num_qubits, rotation_blocks, entanglement_blocks, reps=1,\n",
    "                    entanglement=entanglement, insert_barriers=True)\n",
    "\n",
    "# Define parameters\n",
    "num_params = ansatz.num_parameters\n",
    "\n",
    "# Qiskit Pattern Step 2: Optimize the circuit for quantum execution\n",
    "optimization_level = 2\n",
    "pm = generate_preset_pass_manager(backend=real_backend, optimization_level=optimization_level)\n",
    "isa_circuit = pm.run(ansatz)\n",
    "\n",
    "# Define Hamiltonian for VQE\n",
    "pauli_op = SparsePauliOp(['ZII', 'IZI', 'IIZ'])\n",
    "hamiltonian_isa = pauli_op.apply_layout(layout=isa_circuit.layout)"
   ]
  },
  {
   "cell_type": "code",
   "execution_count": 29,
   "id": "7de73769-7b52-47e4-a416-e6591ac8835c",
   "metadata": {},
   "outputs": [],
   "source": [
    "QiskitRuntimeService.save_account(\n",
    "    channel=\"ibm_quantum\",\n",
    "    token=\"0f2acf433a899bdfb17404a6b420b02c461cac7fb078760dea6512508f2d1823e11600db95d01a8f6af68d39e1c79c82f55322a974cb8fa6c3e3254d85e86296\",\n",
    "    set_as_default=True,\n",
    "    # Use overwrite=True if you're updating your token.\n",
    "    overwrite=True,\n",
    ")"
   ]
  },
  {
   "cell_type": "code",
   "execution_count": 60,
   "id": "9aa6cab7-5434-4ff9-bf3e-77b8c8f93fd3",
   "metadata": {},
   "outputs": [],
   "source": [
    "# Setup Qiskit Serverless Client and Qiskit Runtime client\n",
    "client = IBMServerlessClient(\"\")\n",
    "\n",
    "# For the challenge, we will be using QiskitRuntime Local testing mode. Change to True only if you wish to use real backend.\n",
    "USE_RUNTIME_SERVICE = False\n",
    "\n",
    "if USE_RUNTIME_SERVICE:\n",
    "    service = QiskitRuntimeService(\n",
    "        channel='ibm_quantum', \n",
    "        verify=False\n",
    "    )\n",
    "else:\n",
    "    service = None"
   ]
  },
  {
   "cell_type": "code",
   "execution_count": 61,
   "id": "02a810bc-0b88-4734-a149-9a98b60ec030",
   "metadata": {},
   "outputs": [],
   "source": [
    "# Define the Qiskit Function\n",
    "if USE_RUNTIME_SERVICE:\n",
    "    function = QiskitFunction(title= \"vqe\", entrypoint=\"vqe.py\", working_dir=\"./vqe\")\n",
    "else:\n",
    "    function = QiskitFunction(title= \"vqe\" , entrypoint=\"vqe.py\", working_dir=\"./vqe\",  dependencies=[\"qiskit_aer\"])"
   ]
  },
  {
   "cell_type": "code",
   "execution_count": 62,
   "id": "f76bb582-12fd-4906-8a44-4ca2d9d58509",
   "metadata": {},
   "outputs": [
    {
     "data": {
      "text/plain": [
       "'vqe'"
      ]
     },
     "execution_count": 62,
     "metadata": {},
     "output_type": "execute_result"
    }
   ],
   "source": [
    "# Upload the Qiskit Function using IBMServerlessClient\n",
    "client.upload(function)"
   ]
  },
  {
   "cell_type": "code",
   "execution_count": 63,
   "id": "70043971-1d5b-4b28-8fb5-a1356d796c67",
   "metadata": {},
   "outputs": [
    {
     "ename": "QiskitServerlessException",
     "evalue": "\n| Message: Http bad request.\n| Code: 404",
     "output_type": "error",
     "traceback": [
      "\u001b[1;31m---------------------------------------------------------------------------\u001b[0m",
      "\u001b[1;31mQiskitServerlessException\u001b[0m                 Traceback (most recent call last)",
      "Cell \u001b[1;32mIn[63], line 10\u001b[0m\n\u001b[0;32m      2\u001b[0m input_arguments \u001b[38;5;241m=\u001b[39m {\n\u001b[0;32m      3\u001b[0m     \u001b[38;5;124m\"\u001b[39m\u001b[38;5;124mansatz\u001b[39m\u001b[38;5;124m\"\u001b[39m: isa_circuit,\n\u001b[0;32m      4\u001b[0m     \u001b[38;5;124m\"\u001b[39m\u001b[38;5;124moperator\u001b[39m\u001b[38;5;124m\"\u001b[39m: hamiltonian_isa,\n\u001b[0;32m      5\u001b[0m     \u001b[38;5;124m\"\u001b[39m\u001b[38;5;124mmethod\u001b[39m\u001b[38;5;124m\"\u001b[39m: \u001b[38;5;124m\"\u001b[39m\u001b[38;5;124mCOBYLA\u001b[39m\u001b[38;5;124m\"\u001b[39m,\n\u001b[0;32m      6\u001b[0m     \u001b[38;5;124m\"\u001b[39m\u001b[38;5;124mservice\u001b[39m\u001b[38;5;124m\"\u001b[39m: service\n\u001b[0;32m      7\u001b[0m }\n\u001b[0;32m      9\u001b[0m \u001b[38;5;66;03m# Qiskit Pattern Step 3: Run the payload on backend\u001b[39;00m\n\u001b[1;32m---> 10\u001b[0m job \u001b[38;5;241m=\u001b[39m client\u001b[38;5;241m.\u001b[39mrun(\u001b[38;5;124m\"\u001b[39m\u001b[38;5;124mfunction\u001b[39m\u001b[38;5;124m\"\u001b[39m, arguments\u001b[38;5;241m=\u001b[39m input_arguments)\n",
      "File \u001b[1;32m~\\.conda\\envs\\IBM\\Lib\\site-packages\\qiskit_serverless\\core\\client.py:464\u001b[0m, in \u001b[0;36mServerlessClient.run\u001b[1;34m(self, program, arguments, config)\u001b[0m\n\u001b[0;32m    462\u001b[0m         job \u001b[38;5;241m=\u001b[39m \u001b[38;5;28mself\u001b[39m\u001b[38;5;241m.\u001b[39m_job_client\u001b[38;5;241m.\u001b[39mrun(program\u001b[38;5;241m.\u001b[39mtitle, \u001b[38;5;28;01mNone\u001b[39;00m, arguments, config)\n\u001b[0;32m    463\u001b[0m     \u001b[38;5;28;01melse\u001b[39;00m:\n\u001b[1;32m--> 464\u001b[0m         job \u001b[38;5;241m=\u001b[39m \u001b[38;5;28mself\u001b[39m\u001b[38;5;241m.\u001b[39m_job_client\u001b[38;5;241m.\u001b[39mrun(program, \u001b[38;5;28;01mNone\u001b[39;00m, arguments, config)\n\u001b[0;32m    465\u001b[0m \u001b[38;5;28;01mreturn\u001b[39;00m job\n",
      "File \u001b[1;32m~\\.conda\\envs\\IBM\\Lib\\site-packages\\qiskit_serverless\\core\\job.py:386\u001b[0m, in \u001b[0;36mGatewayJobClient.run\u001b[1;34m(self, program, provider, arguments, config)\u001b[0m\n\u001b[0;32m    383\u001b[0m \u001b[38;5;28;01melse\u001b[39;00m:\n\u001b[0;32m    384\u001b[0m     data[\u001b[38;5;124m\"\u001b[39m\u001b[38;5;124mconfig\u001b[39m\u001b[38;5;124m\"\u001b[39m] \u001b[38;5;241m=\u001b[39m asdict(Configuration())\n\u001b[1;32m--> 386\u001b[0m response_data \u001b[38;5;241m=\u001b[39m safe_json_request(\n\u001b[0;32m    387\u001b[0m     request\u001b[38;5;241m=\u001b[39m\u001b[38;5;28;01mlambda\u001b[39;00m: requests\u001b[38;5;241m.\u001b[39mpost(\n\u001b[0;32m    388\u001b[0m         url\u001b[38;5;241m=\u001b[39murl,\n\u001b[0;32m    389\u001b[0m         json\u001b[38;5;241m=\u001b[39mdata,\n\u001b[0;32m    390\u001b[0m         headers\u001b[38;5;241m=\u001b[39m{\u001b[38;5;124m\"\u001b[39m\u001b[38;5;124mAuthorization\u001b[39m\u001b[38;5;124m\"\u001b[39m: \u001b[38;5;124mf\u001b[39m\u001b[38;5;124m\"\u001b[39m\u001b[38;5;124mBearer \u001b[39m\u001b[38;5;132;01m{\u001b[39;00m\u001b[38;5;28mself\u001b[39m\u001b[38;5;241m.\u001b[39m_token\u001b[38;5;132;01m}\u001b[39;00m\u001b[38;5;124m\"\u001b[39m},\n\u001b[0;32m    391\u001b[0m         timeout\u001b[38;5;241m=\u001b[39mREQUESTS_TIMEOUT,\n\u001b[0;32m    392\u001b[0m     )\n\u001b[0;32m    393\u001b[0m )\n\u001b[0;32m    394\u001b[0m job_id \u001b[38;5;241m=\u001b[39m response_data\u001b[38;5;241m.\u001b[39mget(\u001b[38;5;124m\"\u001b[39m\u001b[38;5;124mid\u001b[39m\u001b[38;5;124m\"\u001b[39m)\n\u001b[0;32m    395\u001b[0m span\u001b[38;5;241m.\u001b[39mset_attribute(\u001b[38;5;124m\"\u001b[39m\u001b[38;5;124mjob.id\u001b[39m\u001b[38;5;124m\"\u001b[39m, job_id)\n",
      "File \u001b[1;32m~\\.conda\\envs\\IBM\\Lib\\site-packages\\qiskit_serverless\\utils\\json.py:104\u001b[0m, in \u001b[0;36msafe_json_request\u001b[1;34m(request, verbose)\u001b[0m\n\u001b[0;32m    101\u001b[0m     \u001b[38;5;28;01mraise\u001b[39;00m QiskitServerlessException(error_message)\n\u001b[0;32m    103\u001b[0m \u001b[38;5;28;01mif\u001b[39;00m response \u001b[38;5;129;01mis\u001b[39;00m \u001b[38;5;129;01mnot\u001b[39;00m \u001b[38;5;28;01mNone\u001b[39;00m \u001b[38;5;129;01mand\u001b[39;00m \u001b[38;5;129;01mnot\u001b[39;00m response\u001b[38;5;241m.\u001b[39mok:\n\u001b[1;32m--> 104\u001b[0m     \u001b[38;5;28;01mraise\u001b[39;00m QiskitServerlessException(\n\u001b[0;32m    105\u001b[0m         format_err_msg(\n\u001b[0;32m    106\u001b[0m             response\u001b[38;5;241m.\u001b[39mstatus_code,\n\u001b[0;32m    107\u001b[0m             \u001b[38;5;28mstr\u001b[39m(response\u001b[38;5;241m.\u001b[39mtext) \u001b[38;5;28;01mif\u001b[39;00m verbose \u001b[38;5;28;01melse\u001b[39;00m \u001b[38;5;28;01mNone\u001b[39;00m,\n\u001b[0;32m    108\u001b[0m         )\n\u001b[0;32m    109\u001b[0m     )\n\u001b[0;32m    111\u001b[0m decoding_error_message: Optional[\u001b[38;5;28mstr\u001b[39m] \u001b[38;5;241m=\u001b[39m \u001b[38;5;28;01mNone\u001b[39;00m\n\u001b[0;32m    112\u001b[0m \u001b[38;5;28;01mtry\u001b[39;00m:\n",
      "\u001b[1;31mQiskitServerlessException\u001b[0m: \n| Message: Http bad request.\n| Code: 404"
     ]
    }
   ],
   "source": [
    "# Define input_arguments\n",
    "input_arguments = {\n",
    "    \"ansatz\": isa_circuit,\n",
    "    \"operator\": hamiltonian_isa,\n",
    "    \"method\": \"COBYLA\",\n",
    "    \"service\": service\n",
    "}\n",
    "\n",
    "# Qiskit Pattern Step 3: Run the payload on backend\n",
    "job = client.run(\"function\", arguments= input_arguments)"
   ]
  },
  {
   "cell_type": "code",
   "execution_count": 34,
   "id": "30023e59-fc51-47ac-a693-ad713bd5a027",
   "metadata": {},
   "outputs": [
    {
     "ename": "NameError",
     "evalue": "name 'job' is not defined",
     "output_type": "error",
     "traceback": [
      "\u001b[1;31m---------------------------------------------------------------------------\u001b[0m",
      "\u001b[1;31mNameError\u001b[0m                                 Traceback (most recent call last)",
      "Cell \u001b[1;32mIn[34], line 1\u001b[0m\n\u001b[1;32m----> 1\u001b[0m grade_lab3_qs_ex1(function, input_arguments, job)\n",
      "\u001b[1;31mNameError\u001b[0m: name 'job' is not defined"
     ]
    }
   ],
   "source": [
    "grade_lab3_qs_ex1(function, input_arguments, job)\n",
    "# Expected result type: QiskitFunction, dict, Job"
   ]
  },
  {
   "cell_type": "code",
   "execution_count": 53,
   "id": "226aa8e8-0077-42ee-af9e-83b22c37d68b",
   "metadata": {},
   "outputs": [
    {
     "ename": "NameError",
     "evalue": "name 'job' is not defined",
     "output_type": "error",
     "traceback": [
      "\u001b[1;31m---------------------------------------------------------------------------\u001b[0m",
      "\u001b[1;31mNameError\u001b[0m                                 Traceback (most recent call last)",
      "Cell \u001b[1;32mIn[53], line 2\u001b[0m\n\u001b[0;32m      1\u001b[0m \u001b[38;5;66;03m# Return jobid\u001b[39;00m\n\u001b[1;32m----> 2\u001b[0m job\n",
      "\u001b[1;31mNameError\u001b[0m: name 'job' is not defined"
     ]
    }
   ],
   "source": [
    "# Return jobid\n",
    "job"
   ]
  },
  {
   "cell_type": "code",
   "execution_count": null,
   "id": "bf1ec00d-b1d8-47db-a3a6-627d3e40fc14",
   "metadata": {},
   "outputs": [],
   "source": []
  }
 ],
 "metadata": {
  "kernelspec": {
   "display_name": "Python 3 (ipykernel)",
   "language": "python",
   "name": "python3"
  },
  "language_info": {
   "codemirror_mode": {
    "name": "ipython",
    "version": 3
   },
   "file_extension": ".py",
   "mimetype": "text/x-python",
   "name": "python",
   "nbconvert_exporter": "python",
   "pygments_lexer": "ipython3",
   "version": "3.11.9"
  }
 },
 "nbformat": 4,
 "nbformat_minor": 5
}
